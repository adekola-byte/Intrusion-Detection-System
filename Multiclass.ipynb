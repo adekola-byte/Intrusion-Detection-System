{
 "cells": [
  {
   "cell_type": "code",
   "execution_count": 1,
   "id": "aa98f3ab-56d1-403a-bdef-edc33c793645",
   "metadata": {
    "collapsed": true,
    "jupyter": {
     "outputs_hidden": true
    }
   },
   "outputs": [
    {
     "data": {
      "text/html": [
       "\n",
       "            <div>\n",
       "                <p><b>SparkSession - in-memory</b></p>\n",
       "                \n",
       "        <div>\n",
       "            <p><b>SparkContext</b></p>\n",
       "\n",
       "            <p><a href=\"http://ids.v1d2a3zlbmcexhv0vqkb4vhzjg.phxx.internal.cloudapp.net:4040\">Spark UI</a></p>\n",
       "\n",
       "            <dl>\n",
       "              <dt>Version</dt>\n",
       "                <dd><code>v3.3.2</code></dd>\n",
       "              <dt>Master</dt>\n",
       "                <dd><code>local</code></dd>\n",
       "              <dt>AppName</dt>\n",
       "                <dd><code>sparkIDS</code></dd>\n",
       "            </dl>\n",
       "        </div>\n",
       "        \n",
       "            </div>\n",
       "        "
      ],
      "text/plain": [
       "<pyspark.sql.session.SparkSession at 0x2122ca03e10>"
      ]
     },
     "execution_count": 1,
     "metadata": {},
     "output_type": "execute_result"
    }
   ],
   "source": [
    "import findspark\n",
    "findspark.init()\n",
    "from pyspark.sql import SparkSession\n",
    "spark = SparkSession.builder.master(\"local\").appName(\"sparkIDS\").getOrCreate()\n",
    "sc = spark.sparkContext\n",
    "spark"
   ]
  },
  {
   "cell_type": "code",
   "execution_count": 2,
   "id": "6b5da4ac-f7b3-4eac-99ae-6773d58c2846",
   "metadata": {},
   "outputs": [],
   "source": [
    "from functools import reduce\n",
    "from pyspark.sql import DataFrame\n",
    "from pyspark.sql import functions as F\n",
    "from pyspark.ml.feature import StringIndexer, VectorAssembler, StandardScaler\n",
    "from pyspark.ml.stat import Correlation\n",
    "from pyspark.ml import Pipeline\n",
    "from pyspark.sql.types import DoubleType\n",
    "import pyarrow as pa\n",
    "from pyspark.sql.types import DataType\n",
    "from pyspark.sql.functions import col\n",
    "from pyspark.sql.functions import split\n",
    "from pyspark.sql.dataframe import *\n",
    "from pyspark.ml.evaluation import BinaryClassificationEvaluator, MulticlassClassificationEvaluator, RegressionEvaluator\n",
    "from pyspark.ml.tuning import ParamGridBuilder, CrossValidator, TrainValidationSplit\n",
    "from pyspark.ml.classification import RandomForestClassifier, LogisticRegression"
   ]
  },
  {
   "cell_type": "code",
   "execution_count": 3,
   "id": "72e9e206-1891-4f8d-bec6-9ac510bad513",
   "metadata": {},
   "outputs": [],
   "source": [
    "df_col = spark.read.csv('NUSW-NB15_features.csv', header=\"true\", inferSchema=False)\n",
    "#resolving the columns containing features to a list in the order they appear to use as headers for the dataframe\n",
    "distinct_names = df_col.select(col(\"`No.`\").cast(\"int\"), \"Name\").distinct()\n",
    "ordered_dataset_names = [row.Name for row in distinct_names.orderBy(\"`No.`\").collect()]"
   ]
  },
  {
   "cell_type": "code",
   "execution_count": 4,
   "id": "ba6bf684-d85d-465c-9e2c-05b2900e1f7d",
   "metadata": {},
   "outputs": [],
   "source": [
    "dfs = []\n",
    "csv_files = [\"C:/users/python/UNSW-NB15_1.csv\", \"C:/users/python/UNSW-NB15_2.csv\", \"C:/users/python/UNSW-NB15_3.csv\", \"C:/users/python/UNSW-NB15_4.csv\"]\n",
    "\n",
    "for csv_file in csv_files:\n",
    "    df = spark.read.option('header', False).csv(csv_file)\n",
    "    renamed_df = df.toDF(*ordered_dataset_names)\n",
    "    dfs.append(renamed_df)\n",
    "\n",
    "def union_all(*dfss):\n",
    "    return reduce(DataFrame.unionAll, dfss)\n",
    "\n",
    "\n",
    "dataframe = union_all(*dfs)"
   ]
  },
  {
   "cell_type": "code",
   "execution_count": 5,
   "id": "3f1b8ab1-12d3-4f98-8fc2-8efab5c1ec8f",
   "metadata": {},
   "outputs": [],
   "source": [
    "dataframe = dataframe.na.fill('normal', ['attack_cat'])\n",
    "dataframe = dataframe.na.fill('0', ['ct_flw_http_mthd'])\n",
    "dataframe = dataframe.na.fill('0', ['is_ftp_login'])\n",
    "dataframe = dataframe.withColumn(\"is_ftp_login\", F.when(F.col(\"is_ftp_login\") > 1, 1).otherwise(F.col(\"is_ftp_login\")))\n",
    "dataframe = dataframe.withColumn(\"service\", F.when(F.col(\"service\") == \"-\", None).otherwise(F.col(\"service\")))\n",
    "dataframe = dataframe.fillna(\"unknown\", [\"service\"])\n",
    "dataframe = dataframe.fillna(\"0\", [\"sport\"])\n",
    "dataframe = dataframe.fillna(\"0\", [\"dsport\"])"
   ]
  },
  {
   "cell_type": "code",
   "execution_count": 6,
   "id": "db53e8cc-fb29-4253-b04e-bedc56130c5c",
   "metadata": {},
   "outputs": [],
   "source": [
    "#resolving the ip address columns from string to numeric type while preserving the value\n",
    "dataframe = dataframe.withColumn(\"srcip_int\",split(col(\"srcip\"),\"\\.\")[0]*16777216 +split(col(\"srcip\"),\"\\.\")[1]*65536+ split(col(\"srcip\"),\"\\.\")[2]*256 + split(col(\"srcip\"),\"\\.\")[3])\n",
    "dataframe = dataframe.withColumn(\"dstip_int\",split(col(\"dstip\"),\"\\.\")[0]*16777216 +split(col(\"dstip\"),\"\\.\")[1]*65536+ split(col(\"dstip\"),\"\\.\")[2]*256 + split(col(\"dstip\"),\"\\.\")[3])"
   ]
  },
  {
   "cell_type": "code",
   "execution_count": 7,
   "id": "707d6a49-acb4-461f-953b-d6f0cc3b9fe4",
   "metadata": {},
   "outputs": [],
   "source": [
    "columns_to_convert = [\"dur\", \"dload\", \"sload\", \"sjit\", \"djit\", \"Sintpkt\", \"Dintpkt\", \"tcprtt\", \"synack\", \"ackdat\"]\n",
    "for col_name in columns_to_convert:\n",
    "    dataframe = dataframe.withColumn(col_name, dataframe[col_name].cast(\"double\"))"
   ]
  },
  {
   "cell_type": "code",
   "execution_count": 8,
   "id": "13f27d7d-7328-4981-9eb3-58c339cc0f77",
   "metadata": {},
   "outputs": [],
   "source": [
    "#specifying the columns to exclude from the transformation of dataframe from string type to double type\n",
    "#'srcip','dstip' will be dropped so no need to transform that, 'srcip_int' and 'dstip_int' have been transformed to int type, the rest are nominal datatypes that will be transformed later user stringindexer\n",
    "columns_to_exclude = [\"srcip\", \"dstip\", \"srcip_int\",\"dstip_int\",\"proto\", \"state\", \"service\",\"attack_cat\", \"dur\", \"dload\", \"sload\", \"sjit\", \"djit\", \"Sintpkt\" , \"Dintpkt\",\"tcprtt\", \"synack\", \"ackdat\"]"
   ]
  },
  {
   "cell_type": "code",
   "execution_count": 9,
   "id": "94852ba8-bbe2-4343-a1aa-5baac9a3669a",
   "metadata": {},
   "outputs": [],
   "source": [
    "#performing stringindexing of the nominal datatypes\n",
    "for col_name, col_type in dataframe.dtypes:\n",
    "    if col_name not in columns_to_exclude:\n",
    "        dataframe = dataframe.withColumn(col_name, dataframe[col_name].cast(\"int\"))\n",
    "columns_to_convert = [\"proto\", \"state\", \"service\", \"attack_cat\"]\n",
    "indexers = [StringIndexer(inputCol=\"proto\", outputCol=\"proto_index\", handleInvalid=\"skip\"), StringIndexer(inputCol=\"state\", outputCol=\"state_index\", handleInvalid=\"skip\"),StringIndexer(inputCol=\"service\", outputCol=\"service_index\",  handleInvalid=\"skip\"),StringIndexer(inputCol=\"attack_cat\", outputCol=\"attackcat_index\",  handleInvalid=\"skip\")]\n",
    "pipeline = Pipeline(stages=indexers)\n",
    "dataframe_r = pipeline.fit(dataframe).transform(dataframe)"
   ]
  },
  {
   "cell_type": "code",
   "execution_count": 10,
   "id": "ee681c91-f61f-4866-b665-1f6c6c7aaef8",
   "metadata": {},
   "outputs": [],
   "source": [
    "#columns to drop after transformation, ct_ftp_cmd was dropped due to having about half null values, label is for binary classification\n",
    "cols = (\"srcip\", \"dstip\", \"proto\",\"state\",\"service\", \"Label\",\"attack_cat\", \"ct_ftp_cmd\")"
   ]
  },
  {
   "cell_type": "code",
   "execution_count": 11,
   "id": "ea9910bc-fe04-4837-aed7-941bb150a143",
   "metadata": {},
   "outputs": [],
   "source": [
    "dataframe_d = dataframe_r.drop(*cols)"
   ]
  },
  {
   "cell_type": "code",
   "execution_count": 12,
   "id": "048207b0-0ea2-413a-b104-b01a4149c104",
   "metadata": {},
   "outputs": [],
   "source": [
    "training, test = dataframe_d.randomSplit([0.8, 0.2], seed=123)"
   ]
  },
  {
   "cell_type": "code",
   "execution_count": 13,
   "id": "9306d5a6-a0ec-4944-9f46-f0460c4f2b07",
   "metadata": {
    "scrolled": true
   },
   "outputs": [],
   "source": [
    "#highly correlated features,srcip,dstip,sport, and dsport will ideally not be available in training data\n",
    "columns_to_drop = ('ct_srv_dst', 'Ltime', 'ct_dst_src_ltm', 'ct_src_ltm', 'ct_src_dport_ltm', 'dloss', 'Dpkts', 'dwin', 'dtcpb', 'srcip', 'dstip', 'sport', 'dsport', 'srcip_int', 'dstip_int')"
   ]
  },
  {
   "cell_type": "code",
   "execution_count": 14,
   "id": "7b2d804e-daf6-4019-92fe-0eca31d671eb",
   "metadata": {},
   "outputs": [],
   "source": [
    "training_d = training.drop(*map(str, columns_to_drop))"
   ]
  },
  {
   "cell_type": "code",
   "execution_count": 15,
   "id": "eb4dab83-fa8f-4577-a8bf-8dbef0fa84e1",
   "metadata": {},
   "outputs": [],
   "source": [
    "#standardizing the dataset and excluding the label\n",
    "columns = training_d.columns\n",
    "column_to_exclude = 'attackcat_index'"
   ]
  },
  {
   "cell_type": "code",
   "execution_count": 16,
   "id": "2b00b0cf-24aa-4667-88f3-a88d1750a9c8",
   "metadata": {},
   "outputs": [],
   "source": [
    "feature_columns = [col for col in columns if col != column_to_exclude]\n",
    "assembler = VectorAssembler(inputCols=feature_columns, outputCol='features', handleInvalid='skip')\n",
    "temptraining = assembler.transform(training_d)\n",
    "scaler = StandardScaler(inputCol='features', outputCol='scaled_features')\n",
    "training = scaler.fit(temptraining).transform(temptraining)"
   ]
  },
  {
   "cell_type": "code",
   "execution_count": 17,
   "id": "648542cf-ab54-429a-8cb7-fc50923cc39b",
   "metadata": {},
   "outputs": [],
   "source": [
    "test_d = test.drop(*map(str, columns_to_drop))\n",
    "feature_columns = [col for col in columns if col != column_to_exclude]\n",
    "temptest = assembler.transform(test_d)\n",
    "test = scaler.fit(temptest).transform(temptest)"
   ]
  },
  {
   "cell_type": "code",
   "execution_count": 18,
   "id": "e98e7410-1cd0-4c27-b842-bc495eb297a3",
   "metadata": {},
   "outputs": [],
   "source": [
    "from pyspark.ml.classification import GBTClassifier\n"
   ]
  },
  {
   "cell_type": "code",
   "execution_count": 19,
   "id": "8bb1af7b-962a-47da-9bd4-1cd383558494",
   "metadata": {},
   "outputs": [],
   "source": [
    "training = training.withColumnRenamed('attackcat_index', 'label')\n",
    "test = test.withColumnRenamed('attackcat_index', 'label')"
   ]
  },
  {
   "cell_type": "code",
   "execution_count": 20,
   "id": "b89a5578-62dd-43fd-bfad-1758041bfd05",
   "metadata": {},
   "outputs": [],
   "source": [
    "from pyspark.ml.classification import DecisionTreeClassifier\n"
   ]
  },
  {
   "cell_type": "code",
   "execution_count": 21,
   "id": "458e11f1-88ab-4292-ab78-93ce4dfd2f11",
   "metadata": {},
   "outputs": [],
   "source": [
    "dt = DecisionTreeClassifier(labelCol='label', featuresCol='scaled_features')\n",
    "dt_param_grid = ParamGridBuilder() \\\n",
    "    .addGrid(dt.maxDepth, [5, 10, 15]) \\\n",
    "    .build()\n",
    "\n",
    "tvs_dt = TrainValidationSplit(estimator=dt,\n",
    "                              estimatorParamMaps=dt_param_grid,\n",
    "                              evaluator=MulticlassClassificationEvaluator(),\n",
    "                              trainRatio=0.8)\n",
    "model_dt = tvs_dt.fit(training)\n",
    "best_model_dt = model_dt.bestModel\n",
    "predictions_gbt = best_model_dt.transform(test)\n"
   ]
  },
  {
   "cell_type": "code",
   "execution_count": 22,
   "id": "2024f4a9-50ce-48ab-b7c9-a09f935abfe5",
   "metadata": {},
   "outputs": [],
   "source": [
    "evaluator = MulticlassClassificationEvaluator(predictionCol=\"prediction\", labelCol= 'label')"
   ]
  },
  {
   "cell_type": "code",
   "execution_count": 23,
   "id": "0b569fe9-4c8e-41fc-b273-b8732b855352",
   "metadata": {},
   "outputs": [
    {
     "name": "stdout",
     "output_type": "stream",
     "text": [
      "F1 Score: 0.848809872077377\n",
      "False Alarm Rate: 0.11313360586306831\n"
     ]
    }
   ],
   "source": [
    "f1_score = evaluator.evaluate(predictions_gbt, {evaluator.metricName: \"f1\"})\n",
    "print(\"F1 Score:\", f1_score)\n",
    "far = 1.0 - evaluator.evaluate(predictions_gbt, {evaluator.metricName: \"weightedPrecision\"})\n",
    "print(\"False Alarm Rate:\", far)"
   ]
  },
  {
   "cell_type": "code",
   "execution_count": 24,
   "id": "b1965526-dd6c-4805-b0d2-1c109391cdd2",
   "metadata": {},
   "outputs": [],
   "source": [
    "exclude_columns = ['features', 'scaled_features', 'label']\n",
    "feature_names = [col for col in training.columns if col not in exclude_columns]\n"
   ]
  },
  {
   "cell_type": "code",
   "execution_count": 25,
   "id": "5113bba8-1b19-423c-ae93-870ee7d293ef",
   "metadata": {},
   "outputs": [
    {
     "name": "stdout",
     "output_type": "stream",
     "text": [
      "Feature Importances:\n",
      "sttl: 0.7320935596824775\n",
      "service_index: 0.1370838452072771\n",
      "dttl: 0.031000957989280056\n",
      "sbytes: 0.023752517744943507\n",
      "proto_index: 0.02268114955074515\n",
      "ct_srv_src: 0.009636370650814737\n",
      "Stime: 0.008530330772837918\n",
      "smeansz: 0.008026258421197034\n",
      "dbytes: 0.006063649398807711\n",
      "dmeansz: 0.0051253892265957736\n",
      "state_index: 0.002352810767078016\n",
      "ct_state_ttl: 0.0019349453048696937\n",
      "dur: 0.001648214829367059\n",
      "Spkts: 0.001352389724986748\n",
      "sjit: 0.001082460432448507\n",
      "sloss: 0.0009740812747460256\n",
      "res_bdy_len: 0.0009246278538369211\n",
      "stcpb: 0.0008680793182108881\n",
      "ct_src_ ltm: 0.000723822859696204\n",
      "Dintpkt: 0.0007116762644687317\n",
      "Sintpkt: 0.000658882505671274\n",
      "sload: 0.0005787191990122492\n",
      "ct_dst_sport_ltm: 0.0005103463492835337\n",
      "ct_dst_ltm: 0.0005084745234971394\n",
      "djit: 0.00046996171764433276\n",
      "dload: 0.00024587426891590645\n",
      "trans_depth: 0.00024503521978918403\n",
      "swin: 0.00014580618879300112\n",
      "ct_flw_http_mthd: 2.7815107688340067e-05\n",
      "is_ftp_login: 2.6000304953373218e-05\n",
      "tcprtt: 1.5947340066563632e-05\n",
      "synack: 0.0\n",
      "ackdat: 0.0\n",
      "is_sm_ips_ports: 0.0\n"
     ]
    }
   ],
   "source": [
    "#using decision trees for feature importance\n",
    "decision_tree_model = best_model_dt\n",
    "feature_importances = decision_tree_model.featureImportances\n",
    "feature_importance_dict = {}\n",
    "for feature_name, importance in zip(feature_names, feature_importances):\n",
    "    feature_importance_dict[feature_name] = importance\n",
    "\n",
    "sorted_feature_importance = sorted(feature_importance_dict.items(), key=lambda x: x[1], reverse=True)\n",
    "print(\"Feature Importances:\")\n",
    "for feature_name, importance in sorted_feature_importance:\n",
    "    print(f\"{feature_name}: {importance}\")"
   ]
  },
  {
   "cell_type": "code",
   "execution_count": 26,
   "id": "7143882a-7264-4923-b19f-178f836c72e2",
   "metadata": {},
   "outputs": [],
   "source": [
    "rf = RandomForestClassifier(labelCol='label', featuresCol='scaled_features')\n",
    "rf_param_grid = ParamGridBuilder() \\\n",
    "    .addGrid(rf.numTrees, [10, 50, 100]) \\\n",
    "    .addGrid(rf.maxDepth, [5, 10, 15]) \\\n",
    "    .build()\n",
    "\n",
    "tvs_rf = TrainValidationSplit(estimator=rf,\n",
    "                              estimatorParamMaps=rf_param_grid,\n",
    "                              evaluator=MulticlassClassificationEvaluator(),\n",
    "                              trainRatio=0.8)\n",
    "\n",
    "model_rf = tvs_rf.fit(training)\n",
    "best_model_rf = model_rf.bestModel\n",
    "predictions_rf = best_model_rf.transform(test)"
   ]
  },
  {
   "cell_type": "code",
   "execution_count": 27,
   "id": "da013b82-1907-4c91-9525-4d27a8d0692f",
   "metadata": {},
   "outputs": [
    {
     "name": "stdout",
     "output_type": "stream",
     "text": [
      "F1 Score: 0.9728624880051581\n",
      "False Alarm Rate: 0.02470204118508701\n"
     ]
    }
   ],
   "source": [
    "f1_score = evaluator.evaluate(predictions_rf, {evaluator.metricName: \"f1\"})\n",
    "print(\"F1 Score:\", f1_score)\n",
    "far = 1.0 - evaluator.evaluate(predictions_rf, {evaluator.metricName: \"weightedPrecision\"})\n",
    "print(\"False Alarm Rate:\", far)"
   ]
  },
  {
   "cell_type": "code",
   "execution_count": 29,
   "id": "eae3753a-e0e8-43e7-9d4f-892437b0e44a",
   "metadata": {},
   "outputs": [],
   "source": [
    "#dropping columns less than 0.0009\n",
    "drop_columns = ('stcpb','ct_src_ ltm','Dintpkt','Sintpkt','sload','ct_dst_sport_ltm','ct_dst_ltm','djit','dload','trans_depth','swin','ct_flw_http_mthd','is_ftp_login','tcprtt','synack',\n",
    "'ackdat','is_sm_ips_ports')\n"
   ]
  },
  {
   "cell_type": "code",
   "execution_count": 30,
   "id": "4d81c5ef-b5cb-4798-a449-841094e84afa",
   "metadata": {},
   "outputs": [],
   "source": [
    "training_sf = training_d.drop(*map(str, drop_columns))"
   ]
  },
  {
   "cell_type": "code",
   "execution_count": 31,
   "id": "e5ffadd5-f7ef-45b5-8ab4-e9056ba17491",
   "metadata": {},
   "outputs": [],
   "source": [
    "columns = training_sf.columns\n",
    "column_to_exclude = 'attackcat_index'\n",
    "feature_columns = [col for col in columns if col != column_to_exclude]\n",
    "assembler = VectorAssembler(inputCols=feature_columns, outputCol='features', handleInvalid='skip')\n",
    "temptraining = assembler.transform(training_sf)\n",
    "scaler = StandardScaler(inputCol='features', outputCol='scaled_features')\n",
    "training = scaler.fit(temptraining).transform(temptraining)"
   ]
  },
  {
   "cell_type": "code",
   "execution_count": 32,
   "id": "396b17a7-80c0-4c56-b5c1-9a7958770e24",
   "metadata": {},
   "outputs": [],
   "source": [
    "test_sf = test_d.drop(*map(str, drop_columns))"
   ]
  },
  {
   "cell_type": "code",
   "execution_count": 33,
   "id": "0ea05319-1d8b-4382-aad6-9a2e85745f8b",
   "metadata": {},
   "outputs": [],
   "source": [
    "temptest = assembler.transform(test_sf)\n",
    "test = scaler.fit(temptest).transform(temptest)"
   ]
  },
  {
   "cell_type": "code",
   "execution_count": 34,
   "id": "cbed73fa-1650-42c2-8640-b254ffc799b8",
   "metadata": {},
   "outputs": [],
   "source": [
    "training = training.withColumnRenamed('attackcat_index', 'label')\n",
    "test = test.withColumnRenamed('attackcat_index', 'label')"
   ]
  },
  {
   "cell_type": "code",
   "execution_count": 35,
   "id": "3e202a23-0dce-48c3-aa86-96bc39700052",
   "metadata": {},
   "outputs": [
    {
     "name": "stdout",
     "output_type": "stream",
     "text": [
      "F1 Score: 0.9736801465015182\n",
      "False Alarm Rate: 0.023492641744311538\n"
     ]
    }
   ],
   "source": [
    "model_dt = tvs_dt.fit(training)\n",
    "best_model_dt = model_dt.bestModel\n",
    "predictions_dt = best_model_dt.transform(test)\n",
    "f1_score = evaluator.evaluate(predictions_dt, {evaluator.metricName: \"f1\"})\n",
    "print(\"F1 Score:\", f1_score)\n",
    "far = 1.0 - evaluator.evaluate(predictions_dt, {evaluator.metricName: \"weightedPrecision\"})\n",
    "print(\"False Alarm Rate:\", far)\n"
   ]
  },
  {
   "cell_type": "code",
   "execution_count": 37,
   "id": "6dd5279d-8326-4d69-9dbf-b38042993af6",
   "metadata": {},
   "outputs": [],
   "source": [
    "training_rf = training_d.drop(*map(str, drop_columns))"
   ]
  },
  {
   "cell_type": "code",
   "execution_count": 38,
   "id": "9b1be257-e8e4-4bcf-8673-cb4e72e1c0e2",
   "metadata": {},
   "outputs": [],
   "source": [
    "columns = training_rf.columns\n",
    "column_to_exclude = 'attackcat_index'\n",
    "feature_columns = [col for col in columns if col != column_to_exclude]\n",
    "assembler = VectorAssembler(inputCols=feature_columns, outputCol='features', handleInvalid='skip')\n",
    "temptraining = assembler.transform(training_rf)\n",
    "scaler = StandardScaler(inputCol='features', outputCol='scaled_features')\n",
    "training = scaler.fit(temptraining).transform(temptraining)"
   ]
  },
  {
   "cell_type": "code",
   "execution_count": 39,
   "id": "04def833-2568-4a36-b32f-9389bcc6e7d7",
   "metadata": {},
   "outputs": [],
   "source": [
    "test_rf = test_d.drop(*map(str, drop_columns))"
   ]
  },
  {
   "cell_type": "code",
   "execution_count": 40,
   "id": "7dcf6eb6-4aab-4d55-955f-fd849cca4a4c",
   "metadata": {},
   "outputs": [],
   "source": [
    "temptest = assembler.transform(test_rf)\n",
    "test = scaler.fit(temptest).transform(temptest)"
   ]
  },
  {
   "cell_type": "code",
   "execution_count": 41,
   "id": "40afe7b2-e29f-4f0d-82d9-c83259ab5f7e",
   "metadata": {},
   "outputs": [],
   "source": [
    "training = training.withColumnRenamed('attackcat_index', 'label')\n",
    "test = test.withColumnRenamed('attackcat_index', 'label')"
   ]
  },
  {
   "cell_type": "code",
   "execution_count": 42,
   "id": "823cf024-8bf2-467e-b4ad-c4bb6602069d",
   "metadata": {},
   "outputs": [
    {
     "name": "stdout",
     "output_type": "stream",
     "text": [
      "F1 Score: 0.9762279644088143\n",
      "False Alarm Rate: 0.021888466843271503\n"
     ]
    }
   ],
   "source": [
    "model_rf = tvs_rf.fit(training)\n",
    "best_model_rf = model_rf.bestModel\n",
    "predictions_rf = best_model_rf.transform(test)\n",
    "f1_score = evaluator.evaluate(predictions_rf, {evaluator.metricName: \"f1\"})\n",
    "print(\"F1 Score:\", f1_score)\n",
    "far = 1.0 - evaluator.evaluate(predictions_rf, {evaluator.metricName: \"weightedPrecision\"})\n",
    "print(\"False Alarm Rate:\", far)\n"
   ]
  },
  {
   "cell_type": "code",
   "execution_count": 44,
   "id": "581e0e07-1703-446f-92af-a83c03d09b64",
   "metadata": {
    "collapsed": true,
    "jupyter": {
     "outputs_hidden": true
    }
   },
   "outputs": [
    {
     "name": "stdout",
     "output_type": "stream",
     "text": [
      "+--------+------+------+----+----+-----+-----------+-----+-----+----+-----+-------+-------+-----------+-----------+-------+----+----------+----------+-------+------+------+------+---------------+------------+----------------+------------+----------+----------+-----------+----------------+-----------+-----------+-------------+---------------+\n",
      "|     dur|sbytes|dbytes|sttl|dttl|sloss|      sload|dload|Spkts|swin|stcpb|smeansz|dmeansz|trans_depth|res_bdy_len|   sjit|djit|     Stime|   Sintpkt|Dintpkt|tcprtt|synack|ackdat|is_sm_ips_ports|ct_state_ttl|ct_flw_http_mthd|is_ftp_login|ct_srv_src|ct_dst_ltm|ct_src_ ltm|ct_dst_sport_ltm|proto_index|state_index|service_index|attackcat_index|\n",
      "+--------+------+------+----+----+-----+-----------+-----+-----+----+-----+-------+-------+-----------+-----------+-------+----+----------+----------+-------+------+------+------+---------------+------------+----------------+------------+----------+----------+-----------+----------------+-----------+-----------+-------------+---------------+\n",
      "|     0.0|   147|     0|  64|   0|    0|        0.0|  0.0|    1|   0|    0|    147|      0|          0|          0|    0.0| 0.0|1421929277|       0.0|    0.0|   0.0|   0.0|   0.0|              0|           0|               0|           0|         2|         2|          2|               2|        6.0|        9.0|          0.0|            0.0|\n",
      "|     0.0|   200|     0| 254|   0|    0|      2.0E8|  0.0|    2|   0|    0|    100|      0|          0|          0|    0.0| 0.0|1421930680|     0.004|    0.0|   0.0|   0.0|   0.0|              0|           2|               0|           0|        12|         4|          4|               1|      134.0|        2.0|          0.0|            0.0|\n",
      "|     0.0|  2800|     0|  64|   0|    0|1041.973145|  0.0|   20|   0|    0|    140|      0|          0|          0|222.792| 0.0|1421931785|1074.88375|    0.0|   0.0|   0.0|   0.0|              0|           0|               0|           0|         2|         2|          2|               2|        6.0|        9.0|          0.0|            0.0|\n",
      "|     0.0|   147|     0|  64|   0|    0|        0.0|  0.0|    1|   0|    0|    147|      0|          0|          0|    0.0| 0.0|1421929277|       0.0|    0.0|   0.0|   0.0|   0.0|              0|           0|               0|           0|         2|         2|          2|               2|        6.0|        9.0|          0.0|            0.0|\n",
      "|0.112805|   264|     0|  64|   0|    0|12481.71582|  0.0|    3|   0|    0|     88|      0|          0|          0|16.4055| 0.0|1421928800|   56.4025|    0.0|   0.0|   0.0|   0.0|              0|           0|               0|           0|         2|         2|          2|               2|        6.0|       15.0|          0.0|            0.0|\n",
      "+--------+------+------+----+----+-----+-----------+-----+-----+----+-----+-------+-------+-----------+-----------+-------+----+----------+----------+-------+------+------+------+---------------+------------+----------------+------------+----------+----------+-----------+----------------+-----------+-----------+-------------+---------------+\n",
      "only showing top 5 rows\n",
      "\n"
     ]
    }
   ],
   "source": [
    "training_d.show(5)"
   ]
  },
  {
   "cell_type": "code",
   "execution_count": null,
   "id": "9074c332-759e-4f90-b0b8-e9dfd2e6c915",
   "metadata": {},
   "outputs": [],
   "source": []
  }
 ],
 "metadata": {
  "kernelspec": {
   "display_name": "Python 3 (ipykernel)",
   "language": "python",
   "name": "python3"
  },
  "language_info": {
   "codemirror_mode": {
    "name": "ipython",
    "version": 3
   },
   "file_extension": ".py",
   "mimetype": "text/x-python",
   "name": "python",
   "nbconvert_exporter": "python",
   "pygments_lexer": "ipython3",
   "version": "3.11.3"
  }
 },
 "nbformat": 4,
 "nbformat_minor": 5
}
